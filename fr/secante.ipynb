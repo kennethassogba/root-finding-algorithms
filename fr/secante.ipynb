{
 "cells": [
  {
   "attachments": {},
   "cell_type": "markdown",
   "metadata": {},
   "source": [
    "# Méthodes numériques de résolution d'équations non linéaires $f(x)=0$\n",
    "## Methode de la secante"
   ]
  },
  {
   "cell_type": "code",
   "execution_count": 8,
   "metadata": {},
   "outputs": [],
   "source": [
    "from math import *\n",
    "def secante(f, a, b, n):\n",
    "    if f(a)*f(b)<0:\n",
    "        for i in range(0, n):\n",
    "            a = a - (b-a)*f(a)/(f(b)-f(a))\n",
    "        return a\n",
    "    elif f(a)*f(b)>0:\n",
    "        print(\"On ne peut appliquer la methode de la secante sur l'intervalle [a,b]\")\n",
    "    else:\n",
    "        if f(a)==0:\n",
    "            print(\"Un zero de f sur [a,b] est a\" + str(a))\n",
    "        else:\n",
    "            print(\"Un zero de f sur [a,b] est b\" + str(b))"
   ]
  },
  {
   "cell_type": "markdown",
   "metadata": {},
   "source": [
    "# Exemple $f(x)=x^2-10$ sur $[3,4]$"
   ]
  },
  {
   "cell_type": "code",
   "execution_count": 9,
   "metadata": {},
   "outputs": [
    {
     "name": "stdout",
     "output_type": "stream",
     "text": [
      "3.162277660168379\n"
     ]
    }
   ],
   "source": [
    "def F(x):\n",
    "    return x**2 - 10\n",
    "\n",
    "zer = secante(F, 3, 4, 100)\n",
    "print(zer)"
   ]
  },
  {
   "cell_type": "code",
   "execution_count": null,
   "metadata": {},
   "outputs": [],
   "source": []
  }
 ],
 "metadata": {
  "kernelspec": {
   "display_name": "Python 3",
   "language": "python",
   "name": "python3"
  },
  "language_info": {
   "codemirror_mode": {
    "name": "ipython",
    "version": 3
   },
   "file_extension": ".py",
   "mimetype": "text/x-python",
   "name": "python",
   "nbconvert_exporter": "python",
   "pygments_lexer": "ipython3",
   "version": "3.5.2"
  }
 },
 "nbformat": 4,
 "nbformat_minor": 2
}
