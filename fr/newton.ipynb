{
 "cells": [
  {
   "cell_type": "markdown",
   "metadata": {},
   "source": [
    "# Méthodes numériques de résolution d'équations non linéaires $f(x)=0$\n",
    "## Methode de Newton-Ralphson"
   ]
  },
  {
   "cell_type": "code",
   "execution_count": 9,
   "metadata": {},
   "outputs": [],
   "source": [
    "from math import *\n",
    "def newton(f, fp, a, tol): #fp derivee de f\n",
    "    nmax=100\n",
    "    n=0\n",
    "    ap = a\n",
    "    inc = []\n",
    "    while abs(f(a)/fp(a))>tol and n<nmax:\n",
    "        a = a - f(a)/fp(a)\n",
    "        inc.append(a-ap)\n",
    "        ap = a\n",
    "        n +=1\n",
    "    return a, n, inc"
   ]
  },
  {
   "cell_type": "markdown",
   "metadata": {},
   "source": [
    "## Exemple $f(x)=(x-e)(x-\\sqrt(17))^3$"
   ]
  },
  {
   "cell_type": "code",
   "execution_count": 10,
   "metadata": {},
   "outputs": [],
   "source": [
    "def F(x):\n",
    "    return (x-e)*((x-(17)**(1/2))**3)\n",
    "\n",
    "def Fp(x): #Fp derivee de F\n",
    "    return ((x-(17)**(1/2))**3) + (x-e)*((x-(17)**(1/2))**2)\n",
    "\n",
    "tol = 10**(-10)"
   ]
  },
  {
   "cell_type": "markdown",
   "metadata": {},
   "source": [
    "## En partant de $ a=5/2 $"
   ]
  },
  {
   "cell_type": "code",
   "execution_count": 11,
   "metadata": {},
   "outputs": [
    {
     "name": "stdout",
     "output_type": "stream",
     "text": [
      "Solution: 2.718281828459029\n",
      "Nombre d'iterations necessaires: 4\n",
      "Tableau des increments |x(n)-x(n-1)|: [0.19240625483659146, 0.025415902588797668, 0.0004595207235080778, 1.5031013189670261e-07]\n"
     ]
    }
   ],
   "source": [
    "a1, n1, inc1 = newton(F, Fp, 5/2, tol)\n",
    "\n",
    "print(\"Solution: \" + str(a1))\n",
    "print(\"Nombre d'iterations necessaires: \" + str(n1))\n",
    "print(\"Tableau des increments |x(n)-x(n-1)|: \" + str(inc1))"
   ]
  },
  {
   "cell_type": "markdown",
   "metadata": {},
   "source": [
    "## En partant de $ a=5 $"
   ]
  },
  {
   "cell_type": "code",
   "execution_count": 12,
   "metadata": {},
   "outputs": [
    {
     "name": "stdout",
     "output_type": "stream",
     "text": [
      "Solution: 4.1231056256177325\n",
      "Nombre d'iterations necessaires: 5\n",
      "Tableau des increments |x(n)-x(n-1)|: [-0.6334508583943332, -0.2121148665116408, -0.03065982704273118, -0.0006685043169269989, -3.181166352561604e-07]\n"
     ]
    }
   ],
   "source": [
    "a2, n2, inc2 = newton(F, Fp, 5, tol)\n",
    "\n",
    "print(\"Solution: \" + str(a2))\n",
    "print(\"Nombre d'iterations necessaires: \" + str(n2))\n",
    "print(\"Tableau des increments |x(n)-x(n-1)|: \" + str(inc2))"
   ]
  },
  {
   "cell_type": "markdown",
   "metadata": {},
   "source": [
    "## Graphe des increments"
   ]
  },
  {
   "cell_type": "code",
   "execution_count": 31,
   "metadata": {
    "scrolled": true
   },
   "outputs": [
    {
     "data": {
      "image/png": "[encoded data removed]",
      "text/plain": [
       "<Figure size 432x288 with 1 Axes>"
      ]
     },
     "metadata": {},
     "output_type": "display_data"
    }
   ],
   "source": [
    "from matplotlib.pylab import *\n",
    "\n",
    "x1 = range(len(inc1))\n",
    "x2 = range(len(inc2))\n",
    "plot(x1, inc1, \"r\", x2, inc2, \"g\")\n",
    "show()"
   ]
  },
  {
   "cell_type": "code",
   "execution_count": null,
   "metadata": {},
   "outputs": [],
   "source": []
  }
 ],
 "metadata": {
  "kernelspec": {
   "display_name": "Python 3",
   "language": "python",
   "name": "python3"
  },
  "language_info": {
   "codemirror_mode": {
    "name": "ipython",
    "version": 3
   },
   "file_extension": ".py",
   "mimetype": "text/x-python",
   "name": "python",
   "nbconvert_exporter": "python",
   "pygments_lexer": "ipython3",
   "version": "3.5.2"
  }
 },
 "nbformat": 4,
 "nbformat_minor": 2
}
