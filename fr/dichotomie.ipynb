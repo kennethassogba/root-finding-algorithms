{
 "cells": [
  {
   "cell_type": "markdown",
   "metadata": {},
   "source": [
    "# Méthodes numériques de résolution d'équations non linéaires $f(x)=0$\n",
    "## Methode de dichotomie"
   ]
  },
  {
   "cell_type": "markdown",
   "metadata": {},
   "source": [
    "Implémentons la méthode de dichotomie (ou de la bissection)."
   ]
  },
  {
   "cell_type": "code",
   "execution_count": 1,
   "metadata": {},
   "outputs": [],
   "source": [
    "from math import *\n",
    "def bissection(f, a, b, tol):\n",
    "    niter = 0\n",
    "    zero = 0.0\n",
    "    res = 0.0\n",
    "    err = 0.0\n",
    "    inc = []\n",
    "    y = (a+b)/2\n",
    "    \n",
    "    if f(a)*f(b)<0:\n",
    "        while abs(b-a)>tol:\n",
    "            x=(a+b)/2\n",
    "            inc.append(abs(x-y))\n",
    "            y = x\n",
    "            niter += 1\n",
    "            if f(a)*f(x)<=0:\n",
    "                b = x\n",
    "            else:\n",
    "                a = x        \n",
    "        zero = (a+b)/2\n",
    "        res = f(zero)\n",
    "        err = abs(a-b)\n",
    "        return zero, res, niter, inc, err\n",
    "    elif f(a)*f(b)>0:\n",
    "        print(\"On ne peut appliquer la methode de la dichotomie sur l'intervalle [a,b]\")\n",
    "    else:\n",
    "        if f(a)==0:\n",
    "            print(\"Un zero de f sur [a,b] est a\" + str(a))\n",
    "        else:\n",
    "            print(\"Un zero de f sur [a,b] est b\" + str(b))\n",
    "    "
   ]
  },
  {
   "cell_type": "markdown",
   "metadata": {},
   "source": [
    "Testons la fonction bissection l’évaluation numérique de $$ \\sqrt{10}.$$"
   ]
  },
  {
   "cell_type": "code",
   "execution_count": 7,
   "metadata": {
    "scrolled": true
   },
   "outputs": [
    {
     "name": "stdout",
     "output_type": "stream",
     "text": [
      "Une estimation d’un zero de la function : zero  = 3.1622776985168457\n",
      "Le reste de la fonction au point zero : f(zero) = 2.4253699848486576e-07\n",
      "Le nombre d’itérations : niter = 20\n",
      "Un vecteur contenant les residus a chaque iteration : inc = [0.0, 0.25, 0.125, 0.0625, 0.03125, 0.015625, 0.0078125, 0.00390625, 0.001953125, 0.0009765625, 0.00048828125, 0.000244140625, 0.0001220703125, 6.103515625e-05, 3.0517578125e-05, 1.52587890625e-05, 7.62939453125e-06, 3.814697265625e-06, 1.9073486328125e-06, 9.5367431640625e-07]\n",
      "La longueur de l'intervalle final : err = 9.5367431640625e-07\n"
     ]
    }
   ],
   "source": [
    "from math import *\n",
    "\n",
    "a = 3\n",
    "b = 4\n",
    "tol = 10**(-6)\n",
    "def f(x):\n",
    "    return x**2-10\n",
    "\n",
    "zero, res, niter, inc, err = bissection(f, a, b, tol)\n",
    "print(\"Une estimation d’un zero de la function : zero  = \" + str(zero))\n",
    "print(\"Le reste de la fonction au point zero : f(zero) = \" + str(res))\n",
    "print(\"Le nombre d’itérations : niter = \" + str(niter))\n",
    "print(\"Un vecteur contenant les residus a chaque iteration : inc = \" + str(inc))\n",
    "print(\"La longueur de l'intervalle final : err = \" + str(err))"
   ]
  },
  {
   "cell_type": "markdown",
   "metadata": {},
   "source": [
    "# On veut résoudre l’equation $$\\frac{x}{2}-\\sin(x)+\\frac{\\pi}{6}-\\frac{\\sqrt{3}}{2}=0, \\quad x \\in [-\\frac{\\pi}{2}, \\pi ] $$"
   ]
  },
  {
   "cell_type": "markdown",
   "metadata": {},
   "source": [
    "## 1. Graphe de la fonction $$f(x)=\\frac{x}{2}-\\sin(x)+\\frac{\\pi}{6}-\\frac{\\sqrt{3}}{2}$$"
   ]
  },
  {
   "cell_type": "code",
   "execution_count": 8,
   "metadata": {
    "scrolled": true
   },
   "outputs": [
    {
     "data": {
      "image/png": "[encoded data removed]",
      "text/plain": [
       "<Figure size 432x288 with 1 Axes>"
      ]
     },
     "metadata": {},
     "output_type": "display_data"
    }
   ],
   "source": [
    "from matplotlib.pylab import *\n",
    "\n",
    "def F(x):\n",
    "    return x/2-sin(x)+pi/6-((3**(1/2))/2)\n",
    "\n",
    "x = linspace(-pi/2, pi, 100)\n",
    "y = F(x)\n",
    "plot(x,y)\n",
    "axhline(0, color='black')\n",
    "xlabel('x')\n",
    "ylabel('y')\n",
    "show()"
   ]
  },
  {
   "cell_type": "markdown",
   "metadata": {},
   "source": [
    "**Nombre de zeros de f:** f possede 2 recines sur $[-\\frac{\\pi}{2}, \\pi ]$"
   ]
  },
  {
   "cell_type": "markdown",
   "metadata": {},
   "source": [
    "**Zeros pour lesquelles on peut appliquer la dichotomie**"
   ]
  },
  {
   "cell_type": "markdown",
   "metadata": {},
   "source": [
    "Nous observons qu'il y a un zero de f dans $[-\\frac{\\pi}{2}, 0 ]$ et un zero dans $[\\frac{\\pi}{2}, \\pi ]$"
   ]
  },
  {
   "cell_type": "markdown",
   "metadata": {},
   "source": [
    "i. $\\forall x \\in [-\\frac{\\pi}{2}, 0 ], \\quad f(x) \\leq 0$. Par suite, $\\forall x,y \\in [-\\frac{\\pi}{2}, 0 ], \\quad f(x)f(y) \\geq 0$. Par consequent on ne peut appliquer la dichotomie pour ce zero"
   ]
  },
  {
   "cell_type": "markdown",
   "metadata": {},
   "source": [
    "ii. $f$ est continue sur $[\\frac{\\pi}{2}, \\pi ]$. De plus $f(\\frac{\\pi}{2})f(\\pi) < 0$"
   ]
  },
  {
   "cell_type": "code",
   "execution_count": 4,
   "metadata": {},
   "outputs": [
    {
     "name": "stdout",
     "output_type": "stream",
     "text": [
      "f(pi/2)= -0.5570284647886915\n",
      "f(pi)= 1.2283696986087567\n"
     ]
    }
   ],
   "source": [
    "print(\"f(pi/2)= \" + str(F(pi/2)))\n",
    "print(\"f(pi)= \" + str(F(pi)))"
   ]
  },
  {
   "cell_type": "markdown",
   "metadata": {},
   "source": [
    "Par suite, d'après le théorème des valeurs intermédiaires, f a au moins un zéro dans l’intervalle $[\\frac{\\pi}{2}, \\pi ]$ et on peut appliquer la methode de dichotomie"
   ]
  },
  {
   "cell_type": "markdown",
   "metadata": {},
   "source": [
    "## 2. Determinons le nombre minimal d'iterations possibles pour $tol=10^{-10}$"
   ]
  },
  {
   "cell_type": "markdown",
   "metadata": {},
   "source": [
    "i. D'apres la question precedente, il n'est pas possible d'appliquer la methode de dichotomie sur $I_1$"
   ]
  },
  {
   "cell_type": "markdown",
   "metadata": {},
   "source": [
    "ii. $I_2 = [\\frac{\\pi}{2}, \\pi ], \\quad tol=10^{-10}.$ Soit $n$ le nombre d'itérations nécessaires pour satisfaire cette tolérance. Apres $n$ iterations, l'intervalle mesure $\\frac{b-a}{2^n}$. Par suite, $n$ est telle que $\\frac{b-a}{2^n} < tol$. La fonction $\\ln$ etant croissante:"
   ]
  },
  {
   "cell_type": "markdown",
   "metadata": {},
   "source": [
    "\\begin{align}\n",
    "\\frac{b-a}{2^n} < tol &\\Rightarrow & \\ln (b-a) - \\ln (2^n) < \\ln (tol) \\\\\n",
    "&\\Rightarrow & n \\ln 2 > \\ln (b-a)-\\ln (tol) \\\\\n",
    "&\\Rightarrow & n > \\frac{\\ln (b-a)-\\ln (tol)}{\\ln 2} \\\\\n",
    "&\\Rightarrow & n > \\frac{\\ln (\\frac{\\pi}{2})+10\\ln (tol)}{\\ln 2} \\\\\n",
    "&\\Rightarrow & n > 33.870777078 \\\\\n",
    "\\end{align}"
   ]
  },
  {
   "cell_type": "markdown",
   "metadata": {},
   "source": [
    "**On conclut que le nombre minimal d'itérations nécessaires pour satisfaire la tolérance $tol=10^{-10}$ est $n=34$**"
   ]
  },
  {
   "cell_type": "markdown",
   "metadata": {},
   "source": [
    "## 3. Verifions en utilisant la fonction bissection"
   ]
  },
  {
   "cell_type": "code",
   "execution_count": 5,
   "metadata": {},
   "outputs": [
    {
     "name": "stdout",
     "output_type": "stream",
     "text": [
      "Une estimation d’un zero de la function : zero  = 2.2460055892966215\n",
      "Le reste de la fonction au point zero : f(zero) = -1.5218937221561646e-12\n",
      "Le nombre d’itérations : niter = 34\n",
      "Un vecteur contenant les residus a chaque iteration : inc = [0.0, 0.39269908169872414, 0.19634954084936185, 0.09817477042468115, 0.049087385212340795, 0.024543692606170175, 0.012271846303085532, 0.006135923151542322, 0.003067961575771161, 0.0015339807878853584, 0.0007669903939429012, 0.0003834951969712286, 0.00019174759848583633, 9.587379924314021e-05, 4.793689962134806e-05, 2.396844981067403e-05, 1.1984224905337015e-05, 5.992112452890552e-06, 2.9960562262232315e-06, 1.4980281131116158e-06, 7.490140565558079e-07, 3.7450702849994855e-07, 1.8725351402792967e-07, 9.362675701396483e-08, 4.681337850698242e-08, 2.3406689475535813e-08, 1.1703344959812512e-08, 5.851672035817046e-09, 2.925836017908523e-09, 1.4629182309988664e-09, 7.314593375440381e-10, 3.6572966877201907e-10, 1.8286483438600953e-10, 9.143219514839984e-11]\n",
      "La longueur de l'intervalle final : err = 9.143219514839984e-11\n"
     ]
    }
   ],
   "source": [
    "from math import *\n",
    "\n",
    "a = pi/2\n",
    "b = pi\n",
    "tol = 10**(-10)\n",
    "\n",
    "zero, res, niter, inc, err = bissection(F, a, b, tol)\n",
    "\n",
    "print(\"Une estimation d’un zero de la function : zero  = \" + str(zero))\n",
    "print(\"Le reste de la fonction au point zero : f(zero) = \" + str(res))\n",
    "print(\"Le nombre d’itérations : niter = \" + str(niter))\n",
    "print(\"Un vecteur contenant les residus a chaque iteration : inc = \" + str(inc))\n",
    "print(\"La longueur de l'intervalle final : err = \" + str(err))"
   ]
  },
  {
   "cell_type": "markdown",
   "metadata": {},
   "source": [
    "**Nous avons bien $niter=34$**"
   ]
  },
  {
   "cell_type": "markdown",
   "metadata": {},
   "source": [
    "## 4. Verifions que l'erreur commise satisfait la tolerance"
   ]
  },
  {
   "cell_type": "code",
   "execution_count": 6,
   "metadata": {},
   "outputs": [
    {
     "name": "stdout",
     "output_type": "stream",
     "text": [
      "True\n"
     ]
    }
   ],
   "source": [
    "x0 = 2.246005589297974 #bonne approximation\n",
    "err = abs(x0-zero)\n",
    "print(err<tol)"
   ]
  },
  {
   "cell_type": "markdown",
   "metadata": {},
   "source": [
    "Soit $x_0$ une bonne approximation du zero.\n",
    "On a $err=|x_0-zero|<tol$"
   ]
  },
  {
   "cell_type": "markdown",
   "metadata": {},
   "source": [
    "**On conclut donc que l'erreur commise avec la solution numerique obtenue satisfait la tolerance**"
   ]
  },
  {
   "cell_type": "code",
   "execution_count": null,
   "metadata": {},
   "outputs": [],
   "source": []
  },
  {
   "cell_type": "code",
   "execution_count": null,
   "metadata": {},
   "outputs": [],
   "source": []
  }
 ],
 "metadata": {
  "kernelspec": {
   "display_name": "Python 3",
   "language": "python",
   "name": "python3"
  },
  "language_info": {
   "codemirror_mode": {
    "name": "ipython",
    "version": 3
   },
   "file_extension": ".py",
   "mimetype": "text/x-python",
   "name": "python",
   "nbconvert_exporter": "python",
   "pygments_lexer": "ipython3",
   "version": "3.5.2"
  }
 },
 "nbformat": 4,
 "nbformat_minor": 2
}
